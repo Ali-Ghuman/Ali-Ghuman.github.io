{
 "cells": [
  {
   "cell_type": "code",
   "execution_count": 1,
   "metadata": {},
   "outputs": [],
   "source": [
    "import pandas as pd\n",
    "import numpy as np\n",
    "from matplotlib import pyplot as plt"
   ]
  },
  {
   "cell_type": "code",
   "execution_count": 85,
   "metadata": {},
   "outputs": [],
   "source": [
    "data = pd.read_csv('./data/2022-chp-pud.csv')\n",
    "data = data.dropna(subset=['ID'])\n",
    "\n",
    "borough_info = data.iloc[0:6]\n",
    "community_info = data.iloc[6:]\n",
    "\n",
    "health_column = 'Self_Rep_Health'\n",
    "communities_column = 'Name'\n",
    "district = 'Financial District'"
   ]
  },
  {
   "cell_type": "code",
   "execution_count": 102,
   "metadata": {},
   "outputs": [
    {
     "name": "stdout",
     "output_type": "stream",
     "text": [
      "[92.2, 82.3] ['Financial District', 'Manhattan']\n"
     ]
    }
   ],
   "source": [
    "# Identify the row that corresponds to the given community. From that row, grab the value corresponding to the desired statistic.\n",
    "borough = community_info.loc[community_info[communities_column] == district]['Borough']\n",
    "local_stat = community_info.loc[community_info[communities_column] == district][health_column].values[0]\n",
    "borough_stat = borough_info.loc[borough_info[communities_column] == borough.values[0]][health_column].values[0]\n",
    "\n",
    "names = [district, borough.values[0]]\n",
    "stats = [local_stat, borough_stat]\n",
    "print(stats, names)"
   ]
  },
  {
   "cell_type": "code",
   "execution_count": 107,
   "metadata": {},
   "outputs": [
    {
     "data": {
      "image/png": "[encoded data removed]",
      "text/plain": [
       "<Figure size 800x300 with 1 Axes>"
      ]
     },
     "metadata": {},
     "output_type": "display_data"
    }
   ],
   "source": [
    "# https://www.geeksforgeeks.org/how-to-make-dropdown-menus-in-plotly/\n",
    "# https://www.python-graph-gallery.com/5-control-width-and-space-in-barplots\n",
    "# https://www.geeksforgeeks.org/how-to-display-the-value-of-each-bar-in-a-bar-chart-using-matplotlib/\n",
    "# https://stackoverflow.com/questions/30228069/how-to-display-the-value-on-horizontal-bars\n",
    "\n",
    "x_pos = [0, 0.5]\n",
    "fig, ax = plt.subplots(figsize=(8, 3)) \n",
    "bars = ax.barh(x_pos, width = stats, height = 0.5, color = ['red', 'blue'], edgecolor = 'black', linewidth = 1)\n",
    "# Create names on the x-axis\n",
    "\n",
    "ax.bar_label(bars, fmt = '%g%%' ,padding = 2)\n",
    "ax.set_yticks(x_pos, names)\n",
    "ax.spines['top'].set_visible(False)\n",
    "ax.spines['right'].set_visible(False)\n",
    "ax.spines['bottom'].set_visible(False)\n",
    "ax.spines['left'].set_visible(False)\n",
    "\n",
    "plt.setp(ax.get_xticklabels(), visible=False)\n",
    "\n",
    "plt.show()"
   ]
  }
 ],
 "metadata": {
  "kernelspec": {
   "display_name": "Python 3.11.2 ('venv': venv)",
   "language": "python",
   "name": "python3"
  },
  "language_info": {
   "codemirror_mode": {
    "name": "ipython",
    "version": 3
   },
   "file_extension": ".py",
   "mimetype": "text/x-python",
   "name": "python",
   "nbconvert_exporter": "python",
   "pygments_lexer": "ipython3",
   "version": "3.11.2"
  },
  "orig_nbformat": 4,
  "vscode": {
   "interpreter": {
    "hash": "c02596d1976a72cd979d6e85ed5aff046939fe63fff8f328810826505e67164f"
   }
  }
 },
 "nbformat": 4,
 "nbformat_minor": 2
}
